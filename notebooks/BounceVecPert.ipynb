{
 "cells": [
  {
   "cell_type": "markdown",
   "metadata": {},
   "source": [
    "# Magnetic field in dust dominated bouncing cosmology\n",
    "\n",
    "In this notebook we develop the necessary objects to compute the power spectrum (and other observables) for magnetic field production in the contraction phase of a bouncing cosmology dominated by a dust-like fluid.\n",
    "\n",
    "The scale factor for this model is given by:\n",
    "\\begin{equation}\n",
    "\\frac{a(\\eta)}{a_0} = \\frac{1}{x_b} \\left[\\eta^2\\gamma+\\sqrt{1+\\left(\\frac{\\eta}{\\eta_b}\\right)^2}\\right], \\quad x \\equiv \\frac{a_0}{a}, \\quad x_b \\equiv \\frac{a_0}{a_b},\n",
    "\\end{equation}\n",
    "where $a_b$ gives the value of the scale factor at the bounce ($\\eta = 0$), and $\\eta_b$ the bounce time-scale. We can write the constants $\\gamma$ and $\\eta_b$ in terms of the usual densities $\\Omega_r$ and $\\Omega_m$, computing the Hubble function $H = a^\\prime/a^2$ away from the bounce phase $\\eta\\gg\\eta_b$ (${}^\\prime$ represents derivatives with respect to the conformal time $\\eta$), i.e.,\n",
    "\\begin{equation}\n",
    "H^2=\\left(\\frac{a^\\prime}{a^2}\\right)^2 = \\frac{1}{a_0^2}\\left(\\frac{4\\gamma x^3}{x_b}+\\frac{x^4}{x_b^2\\eta_b^2}\\right) = R_H^2\\left(\\Omega_m x^3 + \\Omega_r x^4\\right) \\quad \\Rightarrow \\quad \\gamma = \\frac{a_0^2x_b\\Omega_m}{4R_H^2}, \\quad \\eta_b = \\frac{R_H}{a_0x_b\\sqrt{\\Omega_r}},\n",
    "\\end{equation}\n",
    "where $R_H \\equiv 1/H_0$ is the Hubble radius today and $\\Omega_m$ and $\\Omega_r$ are the dimensionless densities today.\n",
    "\n",
    "One can see that the problem can be parametrized by $\\Omega_m$, $\\Omega_r$ and $x_b$ by writing all quantities in units of the conformal time today:\n",
    "\\begin{equation}\n",
    "\\bar\\eta \\equiv \\frac{a_0}{R_H} \\eta, \\quad \\bar\\gamma \\equiv \\frac{R_H^2}{a_0^2}\\gamma =  \\frac{x_b\\Omega_m}{4}, \\quad \\bar\\eta_b \\equiv \\frac{a_0}{R_H} \\eta_b = \\frac{1}{x_b\\sqrt{\\Omega_r}}.\n",
    "\\end{equation}\n",
    "Now, the scale factor is given by \n",
    "\\begin{equation}\n",
    "\\frac{a(\\bar\\eta)}{a_0} = \\frac{1}{x_b} \\left[\\bar\\eta^2\\bar\\gamma+\\sqrt{1+\\left(\\frac{\\bar\\eta}{\\bar\\eta_b}\\right)^2}\\right].\n",
    "\\end{equation}\n",
    "From here on, we are dropping the over-bars from all quantities and always assume the quantities are written in unit of conformal time today.\n",
    "\n",
    "\n",
    "## Loading NumCosmo\n",
    "\n",
    "The first step is to load both NumCosmo and NumCosmoMath libraries."
   ]
  },
  {
   "cell_type": "code",
   "execution_count": 3,
   "metadata": {},
   "outputs": [],
   "source": [
    "try:\n",
    "  import gi\n",
    "  gi.require_version('NumCosmo', '1.0')\n",
    "  gi.require_version('NumCosmoMath', '1.0')\n",
    "except:\n",
    "  pass\n",
    "\n",
    "import math\n",
    "import matplotlib\n",
    "import matplotlib.pyplot as plt\n",
    "import numpy as np\n",
    "from gi.repository import NumCosmo as Nc\n",
    "from gi.repository import NumCosmoMath as Ncm\n"
   ]
  },
  {
   "cell_type": "markdown",
   "metadata": {},
   "source": [
    "# Initializing the library"
   ]
  },
  {
   "cell_type": "code",
   "execution_count": 6,
   "metadata": {},
   "outputs": [],
   "source": [
    "Ncm.cfg_init ()"
   ]
  },
  {
   "cell_type": "markdown",
   "metadata": {},
   "source": [
    "# Complex structure quantization object\n",
    "\n",
    "Below we define our object as a child of the complex structure quantization object Ncm.CSQ1D"
   ]
  },
  {
   "cell_type": "code",
   "execution_count": 7,
   "metadata": {},
   "outputs": [],
   "source": [
    "class PyCSQ1DMagDust (Ncm.CSQ1D):\n",
    "  def __init__ (self, Omega_m = 0.3, xb = 1.0e25, cc = 1.0):\n",
    "    Ncm.CSQ1D.__init__ (self)\n",
    "\n",
    "    self.Omega_m = Omega_m\n",
    "    self.xb      = xb\n",
    "    self.alpha   = 1.5 * math.sqrt (Omega_m * xb**3)\n",
    "    self.cc      = cc\n",
    "\n",
    "  def y_t (self, t):\n",
    "    return np.cbrt (1.0 + (self.alpha * t)**2)\n",
    "\n",
    "  def H_t (self, t):    \n",
    "    return 2.0 / 3.0 * self.alpha**2 * t / (1.0 + (self.alpha * t)**2)\n",
    "\n",
    "  def F_t (self, t):\n",
    "    alphat  = self.alpha * t\n",
    "    alphat2 = alphat * alphat\n",
    "    return 0.25 * (1.0 + self.cc**2 * (alphat2 + 3.0) / (alphat2 + 1.0)**2)\n",
    "    \n",
    "  def do_eval_xi (self, model, t, k):\n",
    "    return math.log (k) + math.log (self.F_t (t))\n",
    "\n",
    "  def do_eval_nu (self, model, t, k):\n",
    "    return k / self.y_t (t)\n",
    "\n",
    "  def do_eval_F1 (self, model, t, k):\n",
    "    alphat  = self.alpha * t\n",
    "    alphat2 = alphat * alphat\n",
    "    \n",
    "    T1 = -2.0 * self.cc**2 * self.alpha**2 * t * (alphat2 + 5.0)\n",
    "    T2 = alphat2 + 1.0\n",
    "    T3 = T2**2\n",
    "    T4 = self.cc**2 * (alphat2 + 3.0)\n",
    "\n",
    "    return (T1 / (T2 * (T3 + T4))) / (2.0 * self.do_eval_nu (model, t, k))\n",
    "\n",
    "  def do_eval_F2 (self, model, t, k):\n",
    "    cc      = self.cc\n",
    "    cc2     = cc**2\n",
    "    alpha2  = self.alpha**2\n",
    "    alphat  = self.alpha * t\n",
    "    alphat2 = alphat * alphat\n",
    "    alphat4 = alphat2 * alphat2\n",
    "    alphat6 = alphat4 * alphat2\n",
    "    alphat8 = alphat4 * alphat4\n",
    "\n",
    "    T1  = (2.0 * cc2 * alpha2 * (-15.0 * (1.0 + 3.0 * cc2) + (26.0 + 3.0 * cc2) * alphat2 + (104.0 + 17.0 * cc2) * alphat4 + (70.0 + cc2) * alphat6 + 7.0 * alphat8)) / (3.0 * ((1.0 + alphat2)**3 + cc2 * (3.0 + 4.0 * alphat2 + alphat4))**2)\n",
    "    Fpp = (cc2 * alpha2 * (-5.0 + 22.0 * alphat2 + 3.0 * alphat4)) / (2.0 * (1.0 + alphat4)**4)\n",
    "    \n",
    "    return T1 / (2.0 * self.do_eval_nu (model, t, k))**2\n",
    "\n",
    "  def do_prepare (self, model):\n",
    "    pass \n"
   ]
  },
  {
   "cell_type": "code",
   "execution_count": null,
   "metadata": {},
   "outputs": [],
   "source": []
  }
 ],
 "metadata": {
  "kernelspec": {
   "display_name": "Python 3",
   "language": "python",
   "name": "python3"
  },
  "language_info": {
   "codemirror_mode": {
    "name": "ipython",
    "version": 3
   },
   "file_extension": ".py",
   "mimetype": "text/x-python",
   "name": "python",
   "nbconvert_exporter": "python",
   "pygments_lexer": "ipython3",
   "version": "3.7.4"
  }
 },
 "nbformat": 4,
 "nbformat_minor": 2
}
